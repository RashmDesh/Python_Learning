{
 "cells": [
  {
   "cell_type": "code",
   "execution_count": 5,
   "metadata": {},
   "outputs": [
    {
     "data": {
      "text/plain": [
       "[5, 2, 1, 4]"
      ]
     },
     "execution_count": 5,
     "metadata": {},
     "output_type": "execute_result"
    }
   ],
   "source": [
    "\n",
    "def common(list1,list2):\n",
    "    list3=[]\n",
    "    for i in list1:\n",
    "        if i in list2:\n",
    "            list3.append(i)\n",
    "    return list3\n",
    "\n",
    "\n",
    "\n",
    "common([5,8,2,1,4],[4,2,5,1])\n",
    "    "
   ]
  },
  {
   "cell_type": "code",
   "execution_count": 7,
   "metadata": {},
   "outputs": [
    {
     "data": {
      "text/plain": [
       "45"
      ]
     },
     "execution_count": 7,
     "metadata": {},
     "output_type": "execute_result"
    }
   ],
   "source": [
    "# maxinum number\n",
    "\n",
    "def max(n1,n2,n3):\n",
    "    if (n1 >= n2) and (n1 >= n3):\n",
    "        larg = n1\n",
    "    elif (n2 >= n3):\n",
    "        larg = n2\n",
    "    else:\n",
    "        larg = n3\n",
    "          \n",
    "    return larg\n",
    "\n",
    "\n",
    "max(45,10,25)"
   ]
  },
  {
   "cell_type": "code",
   "execution_count": 15,
   "metadata": {},
   "outputs": [
    {
     "data": {
      "text/plain": [
       "24"
      ]
     },
     "execution_count": 15,
     "metadata": {},
     "output_type": "execute_result"
    }
   ],
   "source": [
    "# multiply list  element\n",
    "\n",
    "def list_multi(list1):\n",
    "    multi=1\n",
    "    for i in list1:\n",
    "        d=multi*i\n",
    "        multi=d\n",
    "       \n",
    "    return multi\n",
    "\n",
    "\n",
    "list_multi([2,3,4])\n",
    "    "
   ]
  },
  {
   "cell_type": "code",
   "execution_count": 35,
   "metadata": {},
   "outputs": [
    {
     "name": "stdout",
     "output_type": "stream",
     "text": [
      "4\n"
     ]
    },
    {
     "data": {
      "text/plain": [
       "[3, 1, 8, 2]"
      ]
     },
     "execution_count": 35,
     "metadata": {},
     "output_type": "execute_result"
    }
   ],
   "source": [
    "#list revers\n",
    "def list_rev(list1):\n",
    "    length=len(list1)\n",
    "    print(length)\n",
    "    rev=[]\n",
    "    for i in range(length-1,-1,-1): #start,end,shift\n",
    "            a=list1[i]\n",
    "            rev.append(a)\n",
    "    return rev\n",
    "\n",
    "list_rev([2,8,1,3])"
   ]
  },
  {
   "cell_type": "code",
   "execution_count": null,
   "metadata": {},
   "outputs": [],
   "source": [
    "(68,61,62,65)"
   ]
  },
  {
   "cell_type": "code",
   "execution_count": 50,
   "metadata": {},
   "outputs": [
    {
     "data": {
      "text/plain": [
       "[70, 60, 60, 65]"
      ]
     },
     "execution_count": 50,
     "metadata": {},
     "output_type": "execute_result"
    }
   ],
   "source": [
    "def ele_round(list1):\n",
    "    b=[]\n",
    "    for i in list1:\n",
    "        if i%5>=3:\n",
    "            a=i+(5-(i%5))\n",
    "            b.append(a)\n",
    "            \n",
    "        else:\n",
    "            a=i-(i%5)\n",
    "            b.append(a)\n",
    "    return b\n",
    "\n",
    "ele_round([68,61,62,65])\n"
   ]
  },
  {
   "cell_type": "code",
   "execution_count": 44,
   "metadata": {},
   "outputs": [
    {
     "name": "stdout",
     "output_type": "stream",
     "text": [
      "70\n",
      "60\n",
      "60\n",
      "65\n"
     ]
    }
   ],
   "source": [
    "def ele_round(list1):\n",
    "    for i in list1:\n",
    "        if i%5>=3:\n",
    "            print(i+(5-(i%5)))\n",
    "            \n",
    "        else:\n",
    "            print(i-(i%5))      \n",
    "\n",
    "ele_round([68,61,62,65])"
   ]
  },
  {
   "cell_type": "code",
   "execution_count": 81,
   "metadata": {},
   "outputs": [
    {
     "name": "stdout",
     "output_type": "stream",
     "text": [
      "246\n"
     ]
    }
   ],
   "source": [
    "def demo(num):\n",
    "    add=0\n",
    "    no=2\n",
    "    for i in range(1,num+1):\n",
    "           add=add+no\n",
    "            no=(no*10)+2\n",
    "           \n",
    "    print(add) \n",
    "\n",
    "\n",
    "demo(3)"
   ]
  },
  {
   "cell_type": "code",
   "execution_count": null,
   "metadata": {},
   "outputs": [],
   "source": []
  },
  {
   "cell_type": "code",
   "execution_count": 52,
   "metadata": {},
   "outputs": [
    {
     "name": "stdout",
     "output_type": "stream",
     "text": [
      "Total item = 17\n",
      "1st box n= 3\n",
      "2st box k= 1\n",
      "need more boxes\n"
     ]
    }
   ],
   "source": [
    "def box_count(p,n,k):\n",
    "    \n",
    "    if k!=0:\n",
    "        b=p-k\n",
    "        a=int(b/5)\n",
    "    else:\n",
    "        a=int(p/5)\n",
    "        k=p%5\n",
    "        \n",
    "    print(\"Total item =\",p)\n",
    "    print(\"1st box n=\",a)\n",
    "    print(\"2st box k=\",k)\n",
    "    if(p>n and n>a):\n",
    "         return a+k\n",
    "    else:\n",
    "        print(\"need more boxes\")\n",
    "\n",
    "box_count(17,1,1)\n"
   ]
  },
  {
   "cell_type": "code",
   "execution_count": 27,
   "metadata": {},
   "outputs": [
    {
     "name": "stdout",
     "output_type": "stream",
     "text": [
      "Total item = 17\n",
      "1st box n= 3\n",
      "need more boxes\n",
      "2st box k= 1\n"
     ]
    }
   ],
   "source": [
    "def box_count(p,n,k):\n",
    "    print(\"Total item =\",p)\n",
    "    p=p-k\n",
    "    a=int(p/5)\n",
    "    b=p%5\n",
    "    \n",
    "    if(n>=a and k>=b):\n",
    "        print(\"1st box n=\",a)\n",
    "        print(\"2st box k=\",k)\n",
    "        print(\"Total=\",a+k)\n",
    "            \n",
    "    elif(n<=a and k<=b):\n",
    "        print(\"1st box n=\",a)\n",
    "        print(\"need more boxes\")\n",
    "        print(\"2st box k=\",k)\n",
    "    else:\n",
    "        print(\"need more boxes\")\n",
    "          \n",
    "\n",
    "\n",
    "\n",
    "box_count(17,1,1)"
   ]
  },
  {
   "cell_type": "code",
   "execution_count": 28,
   "metadata": {},
   "outputs": [
    {
     "name": "stdout",
     "output_type": "stream",
     "text": [
      "Total item = 21\n",
      "1st box n= 4\n",
      "need more boxes\n",
      "2st box k= 0\n"
     ]
    }
   ],
   "source": [
    "box_count(21,4,0)"
   ]
  },
  {
   "cell_type": "code",
   "execution_count": 29,
   "metadata": {},
   "outputs": [
    {
     "name": "stdout",
     "output_type": "stream",
     "text": [
      "Total item = 12\n",
      "1st box n= 2\n",
      "2st box k= 2\n",
      "Total= 4\n"
     ]
    }
   ],
   "source": [
    "box_count(12,2,2)"
   ]
  },
  {
   "cell_type": "code",
   "execution_count": 30,
   "metadata": {},
   "outputs": [
    {
     "name": "stdout",
     "output_type": "stream",
     "text": [
      "Total item = 19\n",
      "1st box n= 3\n",
      "need more boxes\n",
      "2st box k= 1\n"
     ]
    }
   ],
   "source": [
    "box_count(19,1,1)"
   ]
  },
  {
   "cell_type": "code",
   "execution_count": 31,
   "metadata": {},
   "outputs": [
    {
     "name": "stdout",
     "output_type": "stream",
     "text": [
      "Total item = 3\n",
      "1st box n= 0\n",
      "2st box k= 3\n",
      "Total= 3\n"
     ]
    }
   ],
   "source": [
    "box_count(3,0,3)"
   ]
  },
  {
   "cell_type": "code",
   "execution_count": null,
   "metadata": {},
   "outputs": [],
   "source": []
  }
 ],
 "metadata": {
  "kernelspec": {
   "display_name": "Python 3",
   "language": "python",
   "name": "python3"
  },
  "language_info": {
   "codemirror_mode": {
    "name": "ipython",
    "version": 3
   },
   "file_extension": ".py",
   "mimetype": "text/x-python",
   "name": "python",
   "nbconvert_exporter": "python",
   "pygments_lexer": "ipython3",
   "version": "3.7.1"
  }
 },
 "nbformat": 4,
 "nbformat_minor": 2
}
