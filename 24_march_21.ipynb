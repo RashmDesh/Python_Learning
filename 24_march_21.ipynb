{
 "cells": [
  {
   "cell_type": "code",
   "execution_count": 11,
   "metadata": {},
   "outputs": [
    {
     "name": "stdout",
     "output_type": "stream",
     "text": [
      "Enter total number of class :15\n",
      "Enter  number of class to be conducted :10\n",
      "student attendance percentage are  66.66666666666666\n",
      "You are not eligibale for exam\n",
      "Do you have nay medical certificate for not attaending classes.Please enter yes or no : yes\n",
      "eligibale for exam\n"
     ]
    }
   ],
   "source": [
    "total_class=int(input(\"Enter total number of class :\"))\n",
    "class_conducted=int(input(\"Enter  number of class to be conducted :\"))\n",
    "per=(class_conducted/total_class)*100\n",
    "print('student attendance percentage are ',per)\n",
    "\n",
    "if(per >=75):\n",
    "    print(\"yes,Student is eligibale for exam\")\n",
    "else:\n",
    "    print(\"You are not eligibale for exam\")\n",
    "    reson=input(\"Do you have nay medical certificate for not attaending classes.Please enter yes or no : \")\n",
    "    if(reson==\"yes\"):\n",
    "        print(\"eligibale for exam\")"
   ]
  },
  {
   "cell_type": "code",
   "execution_count": 18,
   "metadata": {},
   "outputs": [
    {
     "name": "stdout",
     "output_type": "stream",
     "text": [
      "Please enter month(jan,feb, march,april,may,june,jully,aug,sept,oct,nov,dec)jan\n",
      "IN jan 31 DAYS\n"
     ]
    }
   ],
   "source": [
    "month=input(\"Please enter month(jan,feb, march,april,may,june,jully,aug,sept,oct,nov,dec)\")\n",
    "\n",
    "if(month==\"jan\"):\n",
    "    print(\"IN %s 31 DAYS\"%month)\n",
    "elif(month==\"feb\"):\n",
    "    print(\"IN %S 28 DAYS\"%month)\n",
    "elif(month==\"march\"):\n",
    "    print(\"IN %S 31 DAYS\"%month)\n",
    "elif(month==\"april\"):\n",
    "    print(\"IN %S 30 DAYS\"%month)\n",
    "elif(month==\"may\"):\n",
    "    print(\"IN %S 31 DAYS\"%month)\n",
    "elif(month==\"june\"):\n",
    "    print(\"IN %S 30 DAYS\"%month)\n",
    "elif(month==\"jully\"):\n",
    "    print(\"IN %S 31 DAYS\"%month)\n",
    "elif(month==\"aug\"):\n",
    "    print(\"IN %S 30 DAYS\"%month)\n",
    "elif(month==\"sept\"):\n",
    "    print(\"IN %S 31 DAYS\"%month)\n",
    "elif(month==\"oct\"):\n",
    "    print(\"IN %S 30 DAYS\"%month)\n",
    "elif(month==\"nov\"):\n",
    "    print(\"IN %S 31 DAYS\"%month)\n",
    "else:\n",
    "    print(\"IN %S 31 DAYS\"%month)"
   ]
  },
  {
   "cell_type": "code",
   "execution_count": 1,
   "metadata": {},
   "outputs": [
    {
     "name": "stdout",
     "output_type": "stream",
     "text": [
      "Please enter month(jan,feb, march,april,may,june,jully,aug,sept,oct,nov,dec)jan\n",
      "IN jan 31 DAYS\n"
     ]
    }
   ],
   "source": [
    "#\n",
    "month=input(\"Please enter month(jan,feb, march,april,may,june,jully,aug,sept,oct,nov,dec)\")\n",
    "\n",
    "#days1=\"jan march may jully sept nov dec\"\n",
    "#days2=\"feb april\"\n",
    "#if((days1 in month)or(days2 in month )):\n",
    "#   print(\"\"month)\n",
    "\n",
    "if((month==\"jan\" or  month==\"march\" )):\n",
    "     print(\"IN %s 31 DAYS\"%month)\n",
    "else:\n",
    "     print(\"IN %s30 DAYS\"%month)\n",
    "\n",
    "\n",
    "    "
   ]
  },
  {
   "cell_type": "code",
   "execution_count": 3,
   "metadata": {},
   "outputs": [
    {
     "name": "stdout",
     "output_type": "stream",
     "text": [
      "enter first side :10\n",
      "enter secand side :13\n",
      "enter third side :10\n",
      "it is isosceles triangle of side 10 13 10 \n"
     ]
    }
   ],
   "source": [
    "#\n",
    "side1=int(input(\"enter first side :\"))\n",
    "side2=int(input(\"enter secand side :\"))\n",
    "side3=int(input(\"enter third side :\"))\n",
    "\n",
    "if(side1==side2 & side2==side3):\n",
    "    print(\"it is equilateral triangle of side %d %d %d \"%(side1,side2,side3))\n",
    "elif(side1==side2 or side1==side3  or side2==side3):\n",
    "     print(\"it is isosceles triangle of side %d %d %d \"%(side1,side2,side3))\n",
    "else:\n",
    "    print(\"all three side are not equale\")\n",
    "\n"
   ]
  },
  {
   "cell_type": "code",
   "execution_count": 7,
   "metadata": {},
   "outputs": [
    {
     "name": "stdout",
     "output_type": "stream",
     "text": [
      "Please enter salary :5000000\n",
      "Please enter year :5\n",
      "emp bouns is 250000.0\n",
      "emp salary with bonus is 5250000.0\n"
     ]
    }
   ],
   "source": [
    "\"\"\" A company decides to give bonuce of 5% to emoployee if his\\her year of sevice more than 5 years. \n",
    "ask user for salary and years of sevice print net bonuce\"\"\"\n",
    "salary=int(input(\"Please enter salary :\"))\n",
    "year=int(input(\"Please enter year :\"))\n",
    "\n",
    "if(year >= 5):\n",
    "    bonus=salary*(5/100)\n",
    "    print(\"emp bouns is\",bonus)\n",
    "    salary=salary+bonus\n",
    "    print(\"emp salary with bonus is\",salary)\n",
    "else:\n",
    "    print(\"not applicable for bonus\")\n",
    "   "
   ]
  },
  {
   "cell_type": "code",
   "execution_count": 1,
   "metadata": {},
   "outputs": [
    {
     "name": "stdout",
     "output_type": "stream",
     "text": [
      "Please enter how many quantity you buy :12\n",
      "price is 1200\n",
      "Total price with discount is 1080.0\n"
     ]
    }
   ],
   "source": [
    "\"\"\" A shop will give 10% discount if perchase exceed 1000rs.\n",
    "Ask user for quantity suppose 1 unit will cause 100rs. \n",
    "judge and print total cost for user   \"\"\"\n",
    "unit=int(input(\"Please enter how many quantity you buy :\"))\n",
    "unit1=unit*100\n",
    "print(\"price is\",unit1)\n",
    "if(unit1 >=1000):\n",
    "    cost=unit1*(10/100)\n",
    "    unit1=unit1-cost\n",
    "    print(\"Total price with discount is\",unit1)\n",
    "else: \n",
    "    cost1=unit*100\n",
    "    print(\"Total price  is\",cost1)\n",
    "    \n"
   ]
  },
  {
   "cell_type": "code",
   "execution_count": null,
   "metadata": {},
   "outputs": [],
   "source": []
  },
  {
   "cell_type": "code",
   "execution_count": null,
   "metadata": {},
   "outputs": [],
   "source": []
  }
 ],
 "metadata": {
  "kernelspec": {
   "display_name": "Python 3",
   "language": "python",
   "name": "python3"
  },
  "language_info": {
   "codemirror_mode": {
    "name": "ipython",
    "version": 3
   },
   "file_extension": ".py",
   "mimetype": "text/x-python",
   "name": "python",
   "nbconvert_exporter": "python",
   "pygments_lexer": "ipython3",
   "version": "3.8.5"
  }
 },
 "nbformat": 4,
 "nbformat_minor": 4
}
