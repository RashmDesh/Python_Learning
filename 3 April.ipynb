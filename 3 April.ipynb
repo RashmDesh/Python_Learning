{
 "cells": [
  {
   "cell_type": "code",
   "execution_count": null,
   "metadata": {},
   "outputs": [],
   "source": [
    "#bull and cow game\n",
    "import random\n",
    "random_no=list(str(random.randint(1000,9999)))\n",
    "user=list(input(\"Enter your number  :\"))\n",
    "print(\"Random number is:\",random_no)\n",
    "cow=0\n",
    "bull=0\n",
    "# common element i.e cow\n",
    "for i in  random_no:\n",
    "    if i in user:\n",
    "        #print(i)\n",
    "        cow=cow+1\n",
    "print(\"cow :\",cow)   \n",
    "\n",
    "for i in range(0,4):\n",
    "    if user[i] in random_no:\n",
    "            if user[i]== random_no[i]:\n",
    "                bull=bull+1\n",
    "                print(\"matching index\",i)\n",
    "print(\"Bull :\",bull)\n",
    "\n",
    "if cow==4:\n",
    "    print(\"you won!\")\n",
    "else:\n",
    "    print(\"you loss!\")\n",
    "\n"
   ]
  },
  {
   "cell_type": "code",
   "execution_count": null,
   "metadata": {},
   "outputs": [],
   "source": [
    "#bull and cow game\n",
    "import random\n",
    "print(\"Welcome to cow and bull game!\")\n",
    "end=0\n",
    "#print(\"want to play bull and cow game.\")\n",
    "#demo=input(\"type yes for play and Type no for exit\")\n",
    "\n",
    "while end!=1:\n",
    "    random_no=list(str(random.randint(1000,9999)))\n",
    "    user=list(input(\"Enter your number  :\"))\n",
    "    print(\"Random number is:\",random_no)\n",
    "    cow=0\n",
    "    bull=0\n",
    "# common element i.e cow\n",
    "    for i in  random_no:\n",
    "        if i in user:\n",
    "            #print(i)\n",
    "            cow=cow+1\n",
    "    print(\"cow :\",cow)   \n",
    "\n",
    "    for i in range(0,4):\n",
    "        if user[i] in random_no:\n",
    "                if user[i]== random_no[i]:\n",
    "                    bull=bull+1\n",
    "                    print(\"matching index\",i)\n",
    "    print(\"Bull :\",bull)\n",
    "\n",
    "    if cow==4:\n",
    "        print(\"you won!\")\n",
    "        end=1\n",
    "    else:\n",
    "        print(\"you loss!\")\n",
    "        demo=int(input(\"Enter 0 to play again and 1 to exit\"))\n",
    "        if demo==0:\n",
    "            end=0\n",
    "        else:\n",
    "            print(\"Exit. Thank you!\")\n",
    "            break\n",
    "\n"
   ]
  },
  {
   "cell_type": "code",
   "execution_count": 6,
   "metadata": {},
   "outputs": [
    {
     "name": "stdout",
     "output_type": "stream",
     "text": [
      "1\n",
      "2\n",
      "2\n",
      "4\n"
     ]
    },
    {
     "ename": "IndexError",
     "evalue": "list index out of range",
     "output_type": "error",
     "traceback": [
      "\u001b[1;31m---------------------------------------------------------------------------\u001b[0m",
      "\u001b[1;31mIndexError\u001b[0m                                Traceback (most recent call last)",
      "\u001b[1;32m<ipython-input-6-724f64b1b9da>\u001b[0m in \u001b[0;36m<module>\u001b[1;34m\u001b[0m\n\u001b[0;32m      7\u001b[0m     \u001b[0md\u001b[0m\u001b[1;33m=\u001b[0m\u001b[0mi\u001b[0m\u001b[1;33m+\u001b[0m\u001b[1;36m1\u001b[0m\u001b[1;33m\u001b[0m\u001b[1;33m\u001b[0m\u001b[0m\n\u001b[0;32m      8\u001b[0m     \u001b[1;31m#print(a[d],\"d\")\u001b[0m\u001b[1;33m\u001b[0m\u001b[1;33m\u001b[0m\u001b[1;33m\u001b[0m\u001b[0m\n\u001b[1;32m----> 9\u001b[1;33m     \u001b[0mprint\u001b[0m\u001b[1;33m(\u001b[0m\u001b[0ma\u001b[0m\u001b[1;33m[\u001b[0m\u001b[0md\u001b[0m\u001b[1;33m]\u001b[0m\u001b[1;33m-\u001b[0m\u001b[0ma\u001b[0m\u001b[1;33m[\u001b[0m\u001b[0mi\u001b[0m\u001b[1;33m]\u001b[0m\u001b[1;33m)\u001b[0m\u001b[1;33m\u001b[0m\u001b[1;33m\u001b[0m\u001b[0m\n\u001b[0m\u001b[0;32m     10\u001b[0m     \u001b[1;31m#print(z)\u001b[0m\u001b[1;33m\u001b[0m\u001b[1;33m\u001b[0m\u001b[1;33m\u001b[0m\u001b[0m\n\u001b[0;32m     11\u001b[0m     \u001b[0mconsecutive\u001b[0m\u001b[1;33m.\u001b[0m\u001b[0mappend\u001b[0m\u001b[1;33m(\u001b[0m\u001b[0ma\u001b[0m\u001b[1;33m[\u001b[0m\u001b[0md\u001b[0m\u001b[1;33m]\u001b[0m\u001b[1;33m-\u001b[0m\u001b[0ma\u001b[0m\u001b[1;33m[\u001b[0m\u001b[0mi\u001b[0m\u001b[1;33m]\u001b[0m\u001b[1;33m)\u001b[0m\u001b[1;33m\u001b[0m\u001b[1;33m\u001b[0m\u001b[0m\n",
      "\u001b[1;31mIndexError\u001b[0m: list index out of range"
     ]
    }
   ],
   "source": [
    "# Difference between consecutive number and copy that number in list\n",
    "a=[1,2,4,6,10]\n",
    "consecutive=[]\n",
    "\n",
    "for i in range(0,len(a)):\n",
    "    #print(a[i],\"i\")\n",
    "    d=i+1\n",
    "    #print(a[d],\"d\")\n",
    "    print(a[d]-a[i])\n",
    "    #print(z)\n",
    "    consecutive.append(a[d]-a[i])\n",
    "print(consecutive)\n",
    "    \n",
    "    "
   ]
  },
  {
   "cell_type": "code",
   "execution_count": null,
   "metadata": {},
   "outputs": [],
   "source": []
  },
  {
   "cell_type": "code",
   "execution_count": null,
   "metadata": {},
   "outputs": [],
   "source": []
  }
 ],
 "metadata": {
  "kernelspec": {
   "display_name": "Python 3",
   "language": "python",
   "name": "python3"
  },
  "language_info": {
   "codemirror_mode": {
    "name": "ipython",
    "version": 3
   },
   "file_extension": ".py",
   "mimetype": "text/x-python",
   "name": "python",
   "nbconvert_exporter": "python",
   "pygments_lexer": "ipython3",
   "version": "3.7.1"
  }
 },
 "nbformat": 4,
 "nbformat_minor": 2
}
