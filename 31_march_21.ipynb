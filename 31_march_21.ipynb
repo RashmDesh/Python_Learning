{
 "cells": [
  {
   "cell_type": "code",
   "execution_count": 7,
   "metadata": {},
   "outputs": [
    {
     "name": "stdout",
     "output_type": "stream",
     "text": [
      "\n",
      "\n",
      "* \n",
      "\n",
      "* *  \n",
      "\n",
      "* *  * \n",
      "\n",
      "* *  * *  \n",
      "\n"
     ]
    }
   ],
   "source": [
    "\n",
    "for i in range(5):\n",
    "    for j in range(i):\n",
    "        print(\"*\",end=\" \")\n",
    "        if(j%2!=0):\n",
    "            print(end=\" \")\n",
    "    print(\"\\n\")"
   ]
  },
  {
   "cell_type": "code",
   "execution_count": 29,
   "metadata": {},
   "outputs": [
    {
     "name": "stdout",
     "output_type": "stream",
     "text": [
      "*\n",
      "**\n",
      "***\n",
      "****\n",
      "*****\n",
      "****\n",
      "***\n",
      "**\n",
      "*\n"
     ]
    }
   ],
   "source": [
    "for i in range(1,6):\n",
    "    print(i*\"*\")\n",
    "for i in range(4,0,-1):\n",
    "    print(i*\"*\")\n",
    "    \n",
    "    "
   ]
  },
  {
   "cell_type": "code",
   "execution_count": 14,
   "metadata": {},
   "outputs": [
    {
     "name": "stdout",
     "output_type": "stream",
     "text": [
      "2222222222\n",
      "222222222\n",
      "22222222\n",
      "2222222\n",
      "222222\n",
      "22222\n",
      "2222\n",
      "222\n",
      "22\n",
      "2\n"
     ]
    }
   ],
   "source": [
    "\n",
    "for i in range(10,0,-1):\n",
    "    print(i*\"2\")\n",
    "    "
   ]
  },
  {
   "cell_type": "code",
   "execution_count": 49,
   "metadata": {},
   "outputs": [
    {
     "name": "stdout",
     "output_type": "stream",
     "text": [
      "enter number of line to print pattern :10\n",
      "**\n",
      "*  *\n",
      "*    *\n",
      "*      *\n",
      "*        *\n",
      "*        *\n",
      "*      *\n",
      "*    *\n",
      "*  *\n",
      "**\n"
     ]
    }
   ],
   "source": [
    "no=int(input(\"enter number of line to print pattern :\"))\n",
    "for i in range(1,no):\n",
    "    if(i%2!=0): \n",
    "        print(\"*\"+(' '*(i-1)+\"*\"))\n",
    "    \n",
    "for i in range(no,0,-1):\n",
    "    if(i%2!=0):\n",
    "        print(\"*\"+(' '*(i-1)+\"*\"))"
   ]
  },
  {
   "cell_type": "code",
   "execution_count": 48,
   "metadata": {},
   "outputs": [
    {
     "name": "stdout",
     "output_type": "stream",
     "text": [
      "1\n",
      "2\n",
      "3\n",
      "3 figg\n",
      "4\n",
      "5\n",
      "5 bugg\n",
      "6\n",
      "6 figg\n",
      "7\n",
      "8\n",
      "9\n",
      "9 figg\n",
      "10\n",
      "10 bugg\n",
      "11\n",
      "12\n",
      "12 figg\n",
      "13\n",
      "14\n",
      "15\n",
      "15 figg and bugg\n",
      "16\n",
      "17\n",
      "18\n",
      "18 figg\n",
      "19\n",
      "20\n",
      "20 bugg\n",
      "21\n",
      "21 figg\n",
      "22\n",
      "23\n",
      "24\n",
      "24 figg\n",
      "25\n",
      "25 bugg\n",
      "26\n",
      "27\n",
      "27 figg\n",
      "28\n",
      "29\n",
      "30\n",
      "30 figg and bugg\n",
      "31\n",
      "32\n",
      "33\n",
      "33 figg\n",
      "34\n",
      "35\n",
      "35 bugg\n",
      "36\n",
      "36 figg\n",
      "37\n",
      "38\n",
      "39\n",
      "39 figg\n",
      "40\n",
      "40 bugg\n",
      "41\n",
      "42\n",
      "42 figg\n",
      "43\n",
      "44\n",
      "45\n",
      "45 figg and bugg\n",
      "46\n",
      "47\n",
      "48\n",
      "48 figg\n",
      "49\n"
     ]
    }
   ],
   "source": [
    "\"\"\"divisible by 3 print figg ,divisible by 5 print bugg \n",
    " and divisible by both 3 and 5 print figg bugg\n",
    "\"\"\"\n",
    "for i in range(1,50):\n",
    "    print(i)\n",
    "    if (i%3==0 and i%5==0):\n",
    "        print(i,\"figg and bugg\")\n",
    "    elif i%3==0:\n",
    "        print(i,\"figg\")\n",
    "    elif i%5==0:\n",
    "        print(i,\"bugg\")\n",
    "        \n",
    "     \n"
   ]
  },
  {
   "cell_type": "markdown",
   "metadata": {},
   "source": [
    "\n",
    "# April"
   ]
  },
  {
   "cell_type": "code",
   "execution_count": 4,
   "metadata": {},
   "outputs": [
    {
     "name": "stdout",
     "output_type": "stream",
     "text": [
      "60\n"
     ]
    }
   ],
   "source": [
    "import random\n",
    "n=random.randint(10,100)\n",
    "print(n)"
   ]
  },
  {
   "cell_type": "code",
   "execution_count": 9,
   "metadata": {},
   "outputs": [
    {
     "name": "stdout",
     "output_type": "stream",
     "text": [
      "Enter number :3456\n",
      "Number you enter  is: 3456\n",
      "Random number is: 8878\n"
     ]
    },
    {
     "ename": "TypeError",
     "evalue": "'int' object is not subscriptable",
     "output_type": "error",
     "traceback": [
      "\u001b[1;31m---------------------------------------------------------------------------\u001b[0m",
      "\u001b[1;31mTypeError\u001b[0m                                 Traceback (most recent call last)",
      "\u001b[1;32m<ipython-input-9-ae21faaf6fbf>\u001b[0m in \u001b[0;36m<module>\u001b[1;34m\u001b[0m\n\u001b[0;32m      6\u001b[0m \u001b[1;33m\u001b[0m\u001b[0m\n\u001b[0;32m      7\u001b[0m \u001b[1;32mfor\u001b[0m \u001b[0mi\u001b[0m \u001b[1;32min\u001b[0m \u001b[0mrange\u001b[0m\u001b[1;33m(\u001b[0m\u001b[1;36m1\u001b[0m\u001b[1;33m,\u001b[0m\u001b[1;36m5\u001b[0m\u001b[1;33m)\u001b[0m\u001b[1;33m:\u001b[0m\u001b[1;33m\u001b[0m\u001b[1;33m\u001b[0m\u001b[0m\n\u001b[1;32m----> 8\u001b[1;33m      \u001b[0mprint\u001b[0m\u001b[1;33m(\u001b[0m\u001b[0mrandom_no\u001b[0m\u001b[1;33m[\u001b[0m\u001b[0mi\u001b[0m\u001b[1;33m]\u001b[0m\u001b[1;33m)\u001b[0m\u001b[1;33m\u001b[0m\u001b[1;33m\u001b[0m\u001b[0m\n\u001b[0m\u001b[0;32m      9\u001b[0m \u001b[1;33m\u001b[0m\u001b[0m\n\u001b[0;32m     10\u001b[0m \u001b[1;33m\u001b[0m\u001b[0m\n",
      "\u001b[1;31mTypeError\u001b[0m: 'int' object is not subscriptable"
     ]
    }
   ],
   "source": [
    "import random\n",
    "random_no=random.randint(1000,9999)\n",
    "user=input(\"Enter number :\")\n",
    "print(\"Number you enter  is:\",user)\n",
    "print(\"Random number is:\",random_no)\n",
    "\n",
    "for i in range(1,5):\n",
    "     print(random_no[i])\n",
    "\n",
    "\n",
    "\n"
   ]
  },
  {
   "cell_type": "code",
   "execution_count": 19,
   "metadata": {},
   "outputs": [
    {
     "name": "stdout",
     "output_type": "stream",
     "text": [
      "[10, 11, 12, 13, 14, 15]\n"
     ]
    }
   ],
   "source": [
    "l=[1,2,3,4,5,6,7,8]\n",
    "l[2]\n",
    "#[start,end,step]\n",
    "l[0:7] # \n",
    "l[-1] #8n last\n",
    "l[7:1:-1] # back\n",
    "\n",
    "#t=(1,2,4)\n",
    "#print(t)\n",
    "\n",
    "\n",
    "\n"
   ]
  },
  {
   "cell_type": "code",
   "execution_count": 64,
   "metadata": {},
   "outputs": [
    {
     "name": "stdout",
     "output_type": "stream",
     "text": [
      "[10, 11, 9, 12, 13, 20, 14, 15]\n",
      "maximum is 7\n"
     ]
    }
   ],
   "source": [
    "a=[10,11,9,12,13,20,14,15]\n",
    "print(a)\n",
    "maxi=a[0]\n",
    "for i in range(1,len(a)):\n",
    "      if(a[i]> maxi):\n",
    "        maxi=i\n",
    "\n",
    "print(\"maximum is\",maxi)\n",
    "    "
   ]
  },
  {
   "cell_type": "code",
   "execution_count": 65,
   "metadata": {},
   "outputs": [
    {
     "name": "stdout",
     "output_type": "stream",
     "text": [
      "[10, 11, 9, 12, 13, 20, 14, 15]\n",
      "maximum is 20\n"
     ]
    }
   ],
   "source": [
    "a=[10,11,9,12,13,20,14,15]\n",
    "print(a)\n",
    "maxi=a[0]\n",
    "for i in a:\n",
    "    if(i > maxi):\n",
    "        maxi=i\n",
    "\n",
    "print(\"maximum is\",maxi)\n",
    "    "
   ]
  },
  {
   "cell_type": "code",
   "execution_count": 58,
   "metadata": {},
   "outputs": [
    {
     "name": "stdout",
     "output_type": "stream",
     "text": [
      "[10, 11, 9, 12, 13, 20, 1, 14, 15, 4]\n",
      "10\n",
      "11\n",
      "9\n",
      "12\n",
      "13\n",
      "20\n",
      "14\n",
      "15\n",
      "list is:\n",
      "[10, 11, 9, 12, 13, 20, 14, 15]\n"
     ]
    }
   ],
   "source": [
    "a=[10,11,9,12,13,20,1,14,15,4]\n",
    "print(a)\n",
    "list=[]\n",
    "for i in a:\n",
    "    if(i > 5):\n",
    "        print(i)\n",
    "        list.append(i)\n",
    "print(\"list is:\")\n",
    "print(list)"
   ]
  },
  {
   "cell_type": "code",
   "execution_count": 59,
   "metadata": {},
   "outputs": [
    {
     "name": "stdout",
     "output_type": "stream",
     "text": [
      "[10, 11, 9, 12, 13, 20, 1, 14, 15, 4]\n",
      "even list is:\n",
      "[10, 12, 20, 14, 4]\n",
      "odd list is:\n",
      "[11, 9, 13, 1, 15]\n"
     ]
    }
   ],
   "source": [
    "a=[10,11,9,12,13,20,1,14,15,4]\n",
    "print(a)\n",
    "even=[]\n",
    "odd=[]\n",
    "for i in a:\n",
    "    if(i%2==0):\n",
    "        even.append(i)\n",
    "    else:\n",
    "        odd.append(i)\n",
    "print(\"even list is:\")\n",
    "print(even)\n",
    "print(\"odd list is:\")\n",
    "print(odd)"
   ]
  },
  {
   "cell_type": "code",
   "execution_count": 107,
   "metadata": {},
   "outputs": [
    {
     "name": "stdout",
     "output_type": "stream",
     "text": [
      "common element list :\n",
      "[4, 3, 6, 3]\n",
      "uncommomn element :\n",
      "[3, 3, 3, 3, 3, 3, 4, 4, 4, 4, 4, 4, 6, 6, 6, 6, 6, 6, 2, 2, 2, 2, 2, 2, 8, 8, 8, 8, 8, 8]\n"
     ]
    }
   ],
   "source": [
    "# comman elenet in list\n",
    "a=[1,4,3,5,6,3]\n",
    "b=[3,4,6,2,8]\n",
    "l=[]\n",
    "uncomm=[]\n",
    "for i in a: \n",
    "    for j in b:\n",
    "        if i==j:\n",
    "            l.append(i)\n",
    "print(\"common element list :\")            \n",
    "print(l)\n",
    "\n",
    "for i in b: \n",
    "    for j in a:\n",
    "        if j==i:\n",
    "            uncomm.append(i)\n",
    "        else:\n",
    "            uncomm.append(i)\n",
    "\n",
    "print(\"uncommomn element :\")\n",
    "print(uncomm)"
   ]
  },
  {
   "cell_type": "code",
   "execution_count": 27,
   "metadata": {},
   "outputs": [
    {
     "name": "stdout",
     "output_type": "stream",
     "text": [
      "6\n",
      "3\n",
      "2\n",
      "Common element in list :\n",
      "8\n"
     ]
    }
   ],
   "source": [
    "\"\"\"commmon and uncommom element in list \"\"\"\n",
    "\n",
    "a=[1,4,6,3,2,7]\n",
    "b=[6,3,2,9,8]\n",
    "comm=[]\n",
    "for i in b:\n",
    "    if i in a:\n",
    "        print(i)\n",
    "        comm.append(i)\n",
    "print(\"Common element in list :\")           \n",
    "print(i)"
   ]
  },
  {
   "cell_type": "code",
   "execution_count": 74,
   "metadata": {},
   "outputs": [
    {
     "name": "stdout",
     "output_type": "stream",
     "text": [
      "Enter your number  :3472\n",
      "Random number is: 9073\n",
      "cow : 2\n",
      "enterimg\n",
      "if\n",
      "0\n",
      "enterimg\n",
      "enterimg\n",
      "enterimg\n"
     ]
    }
   ],
   "source": [
    "#bull and cow game\n",
    "import random\n",
    "random_no=random.randint(1000,9999)\n",
    "demo=str(random_no)\n",
    "\n",
    "\n",
    "user=input(\"Enter your number  :\")\n",
    "print(\"Random number is:\",random_no)\n",
    "count=0\n",
    "# common element i.e cow\n",
    "for i in  str(random_no):\n",
    "    if i in user:\n",
    "        #print(i)\n",
    "        count=count+1\n",
    "print(\"cow :\",count)\n",
    "\n",
    "\n",
    "for i in range(4):\n",
    "    print(\"enterimg\")\n",
    "    if demo[i]!=user[i] and user[i] in demo:\n",
    "        print(\"if\")\n",
    "        print(i)\n",
    "\n",
    "    \n",
    "        \n",
    "               "
   ]
  },
  {
   "cell_type": "code",
   "execution_count": 69,
   "metadata": {},
   "outputs": [
    {
     "name": "stdout",
     "output_type": "stream",
     "text": [
      "Enter your number  :6578\n",
      "Random number is: 1361\n",
      "cow : 0\n",
      "4\n"
     ]
    }
   ],
   "source": [
    "import random\n",
    "random_no=random.randint(1000,9999)\n",
    "demo=str(random_no)\n",
    "user=input(\"Enter your number  :\")\n",
    "print(\"Random number is:\",random_no)\n",
    "count1=0\n",
    "count2=0\n",
    "for i in range(len(demo)):\n",
    "    if(demo[i]==user[i]):\n",
    "        count1=count1+1\n",
    "    else:\n",
    "        count2=count2+1\n",
    "        \n",
    "print(\"cow :\",count1)\n",
    "print(count2)\n"
   ]
  },
  {
   "cell_type": "code",
   "execution_count": 51,
   "metadata": {},
   "outputs": [
    {
     "data": {
      "text/plain": [
       "2345"
      ]
     },
     "execution_count": 51,
     "metadata": {},
     "output_type": "execute_result"
    }
   ],
   "source": [
    "2345\n"
   ]
  },
  {
   "cell_type": "code",
   "execution_count": null,
   "metadata": {},
   "outputs": [],
   "source": []
  }
 ],
 "metadata": {
  "kernelspec": {
   "display_name": "Python 3",
   "language": "python",
   "name": "python3"
  },
  "language_info": {
   "codemirror_mode": {
    "name": "ipython",
    "version": 3
   },
   "file_extension": ".py",
   "mimetype": "text/x-python",
   "name": "python",
   "nbconvert_exporter": "python",
   "pygments_lexer": "ipython3",
   "version": "3.7.1"
  }
 },
 "nbformat": 4,
 "nbformat_minor": 2
}
